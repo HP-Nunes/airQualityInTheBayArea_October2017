{
 "cells": [
  {
   "cell_type": "code",
   "execution_count": 2,
   "metadata": {},
   "outputs": [],
   "source": [
    "import pandas as pd\n",
    "import numpy as np\n",
    "from matplotlib import pyplot as plt\n",
    "import seaborn as sns\n",
    "import csv\n",
    "import requests\n",
    "import json\n",
    "import urllib\n",
    "from pprint import pprint\n"
   ]
  },
  {
   "cell_type": "code",
   "execution_count": 3,
   "metadata": {
    "scrolled": false
   },
   "outputs": [
    {
     "name": "stdout",
     "output_type": "stream",
     "text": [
      "[{'AQI': 41,\n",
      "  'Category': {'Name': 'Good', 'Number': 1},\n",
      "  'DateObserved': '2018-04-12 ',\n",
      "  'HourObserved': 20,\n",
      "  'Latitude': 37.48,\n",
      "  'LocalTimeZone': 'PST',\n",
      "  'Longitude': -122.22,\n",
      "  'ParameterName': 'O3',\n",
      "  'ReportingArea': 'Redwood City',\n",
      "  'StateCode': 'CA'},\n",
      " {'AQI': 46,\n",
      "  'Category': {'Name': 'Good', 'Number': 1},\n",
      "  'DateObserved': '2018-04-12 ',\n",
      "  'HourObserved': 20,\n",
      "  'Latitude': 37.48,\n",
      "  'LocalTimeZone': 'PST',\n",
      "  'Longitude': -122.22,\n",
      "  'ParameterName': 'PM2.5',\n",
      "  'ReportingArea': 'Redwood City',\n",
      "  'StateCode': 'CA'}]\n",
      "[{'AQI': 35,\n",
      "  'Category': {'Name': 'Good', 'Number': 1},\n",
      "  'DateObserved': '2018-04-09 ',\n",
      "  'HourObserved': 0,\n",
      "  'Latitude': 37.48,\n",
      "  'LocalTimeZone': 'PST',\n",
      "  'Longitude': -122.22,\n",
      "  'ParameterName': 'OZONE',\n",
      "  'ReportingArea': 'Redwood City',\n",
      "  'StateCode': 'CA'},\n",
      " {'AQI': 46,\n",
      "  'Category': {'Name': 'Good', 'Number': 1},\n",
      "  'DateObserved': '2018-04-09 ',\n",
      "  'HourObserved': 0,\n",
      "  'Latitude': 37.48,\n",
      "  'LocalTimeZone': 'PST',\n",
      "  'Longitude': -122.22,\n",
      "  'ParameterName': 'PM2.5',\n",
      "  'ReportingArea': 'Redwood City',\n",
      "  'StateCode': 'CA'}]\n"
     ]
    }
   ],
   "source": [
    "import requests\n",
    "#list to hold zip codes\n",
    "zipCodes = []\n",
    "KEY =\"F495480F-C2BE-4278-BF64-602A33887D65\"\n",
    "url_c = \"http://www.airnowapi.org/aq/observation/zipCode/current/?format=application/json&zipCode=94306&API_KEY=\"+KEY\n",
    "url = \"http://www.airnowapi.org/aq/observation/zipCode/historical/?format=application/json&zipCode=94306&date=2018-04-09T00-0000&distance=25&API_KEY=\"+KEY\n",
    "current_response = requests.get(url_c).json()\n",
    "historical_response = requests.get(url).json()\n",
    "pprint(current_response)\n",
    "pprint(historical_response)\n",
    "\n"
   ]
  },
  {
   "cell_type": "code",
   "execution_count": 4,
   "metadata": {},
   "outputs": [],
   "source": [
    "#import csv\n",
    "\n",
    "historic_data = open('historic.csv', 'w')\n",
    "csvwriter = csv.writer(historic_data)\n",
    "count = 0\n",
    "for historic in historical_response:\n",
    "      if count == 0:\n",
    "             header = historic.keys()\n",
    "             csvwriter.writerow(header)\n",
    "             count += 1\n",
    "      csvwriter.writerow(historic.values())\n",
    "historic_data.close()"
   ]
  },
  {
   "cell_type": "code",
   "execution_count": null,
   "metadata": {},
   "outputs": [],
   "source": []
  }
 ],
 "metadata": {
  "kernelspec": {
   "display_name": "Python [conda env:PythonData]",
   "language": "python",
   "name": "conda-env-PythonData-py"
  },
  "language_info": {
   "codemirror_mode": {
    "name": "ipython",
    "version": 3
   },
   "file_extension": ".py",
   "mimetype": "text/x-python",
   "name": "python",
   "nbconvert_exporter": "python",
   "pygments_lexer": "ipython3",
   "version": "3.6.4"
  }
 },
 "nbformat": 4,
 "nbformat_minor": 2
}
